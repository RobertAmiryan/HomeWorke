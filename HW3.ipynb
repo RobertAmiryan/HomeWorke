{
 "cells": [
  {
   "cell_type": "code",
   "execution_count": 11,
   "id": "c548bedd",
   "metadata": {},
   "outputs": [],
   "source": [
    "def pow(a,b):\n",
    "    sum = 0\n",
    "    if b>a:\n",
    "        for i in range (a,b+1):\n",
    "            sum += i\n",
    "        return sum\n",
    "    else:\n",
    "        for i in range (b,a+1):\n",
    "            sum += i\n",
    "    return sum"
   ]
  },
  {
   "cell_type": "code",
   "execution_count": 12,
   "id": "8488b390",
   "metadata": {},
   "outputs": [
    {
     "data": {
      "text/plain": [
       "45"
      ]
     },
     "execution_count": 12,
     "metadata": {},
     "output_type": "execute_result"
    }
   ],
   "source": [
    "pow(1,9)"
   ]
  },
  {
   "cell_type": "code",
   "execution_count": 13,
   "id": "746671eb",
   "metadata": {},
   "outputs": [
    {
     "data": {
      "text/plain": [
       "45"
      ]
     },
     "execution_count": 13,
     "metadata": {},
     "output_type": "execute_result"
    }
   ],
   "source": [
    "pow(9,1)"
   ]
  },
  {
   "cell_type": "code",
   "execution_count": null,
   "id": "9ac65db9",
   "metadata": {},
   "outputs": [],
   "source": []
  }
 ],
 "metadata": {
  "kernelspec": {
   "display_name": "Python 3 (ipykernel)",
   "language": "python",
   "name": "python3"
  },
  "language_info": {
   "codemirror_mode": {
    "name": "ipython",
    "version": 3
   },
   "file_extension": ".py",
   "mimetype": "text/x-python",
   "name": "python",
   "nbconvert_exporter": "python",
   "pygments_lexer": "ipython3",
   "version": "3.9.7"
  }
 },
 "nbformat": 4,
 "nbformat_minor": 5
}
