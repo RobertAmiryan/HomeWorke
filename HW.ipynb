{
 "cells": [
  {
   "cell_type": "code",
   "execution_count": 1,
   "id": "7d6d3f9c",
   "metadata": {},
   "outputs": [],
   "source": [
    "def max(a,b,c):\n",
    "    if a>b:\n",
    "        if b>c:\n",
    "            return (a**2)+(b**2)\n",
    "        else:\n",
    "            return (a**2)+(c**2)\n",
    "    if b>a:\n",
    "        if a>c:\n",
    "            return (b**2)+(a**2)\n",
    "        else:\n",
    "            return (b**2)+(c**2)  \n",
    "    if c>b:\n",
    "        if b>a:\n",
    "            return (c**2)+(b**2)\n",
    "        else:\n",
    "            return (a**2)+(c**2)"
   ]
  },
  {
   "cell_type": "code",
   "execution_count": null,
   "id": "5112e0f5",
   "metadata": {},
   "outputs": [],
   "source": []
  }
 ],
 "metadata": {
  "kernelspec": {
   "display_name": "Python 3 (ipykernel)",
   "language": "python",
   "name": "python3"
  },
  "language_info": {
   "codemirror_mode": {
    "name": "ipython",
    "version": 3
   },
   "file_extension": ".py",
   "mimetype": "text/x-python",
   "name": "python",
   "nbconvert_exporter": "python",
   "pygments_lexer": "ipython3",
   "version": "3.9.7"
  }
 },
 "nbformat": 4,
 "nbformat_minor": 5
}
