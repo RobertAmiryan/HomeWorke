{
 "cells": [
  {
   "cell_type": "code",
   "execution_count": 40,
   "id": "eda20097",
   "metadata": {},
   "outputs": [
    {
     "data": {
      "text/plain": [
       "'Error'"
      ]
     },
     "execution_count": 40,
     "metadata": {},
     "output_type": "execute_result"
    }
   ],
   "source": [
    "def pow(m, n):\n",
    "    if m==0 and n<=0:\n",
    "        return \"Error\"\n",
    "    if n>0:\n",
    "       res = 1\n",
    "       count = 0\n",
    "       while count < n:\n",
    "             res = res * m\n",
    "             count = count + 1\n",
    "             return res\n",
    "    if n<0:\n",
    "       res=1\n",
    "       count=0\n",
    "       while count < abs(n):\n",
    "             res=1/(res*m)\n",
    "             count+=1\n",
    "             return res\n",
    "    if m==0 :\n",
    "        return 0\n",
    "pow(0, -1)\n"
   ]
  },
  {
   "cell_type": "code",
   "execution_count": null,
   "id": "63e1dad0",
   "metadata": {},
   "outputs": [],
   "source": []
  },
  {
   "cell_type": "code",
   "execution_count": null,
   "id": "399c6f9f",
   "metadata": {},
   "outputs": [],
   "source": []
  },
  {
   "cell_type": "code",
   "execution_count": null,
   "id": "9f06130e",
   "metadata": {},
   "outputs": [],
   "source": []
  }
 ],
 "metadata": {
  "kernelspec": {
   "display_name": "Python 3 (ipykernel)",
   "language": "python",
   "name": "python3"
  },
  "language_info": {
   "codemirror_mode": {
    "name": "ipython",
    "version": 3
   },
   "file_extension": ".py",
   "mimetype": "text/x-python",
   "name": "python",
   "nbconvert_exporter": "python",
   "pygments_lexer": "ipython3",
   "version": "3.9.7"
  }
 },
 "nbformat": 4,
 "nbformat_minor": 5
}
