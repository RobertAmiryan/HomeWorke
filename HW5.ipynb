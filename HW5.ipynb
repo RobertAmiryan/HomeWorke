{
 "cells": [
  {
   "cell_type": "code",
   "execution_count": 9,
   "id": "25410a03",
   "metadata": {},
   "outputs": [
    {
     "data": {
      "text/plain": [
       "5.0"
      ]
     },
     "execution_count": 9,
     "metadata": {},
     "output_type": "execute_result"
    }
   ],
   "source": [
    "def n_qrt(m,n):\n",
    "    return ((m / (n ** 2)) + (2 * n)) / 3\n",
    "n_qrt(81,3)"
   ]
  },
  {
   "cell_type": "code",
   "execution_count": 10,
   "id": "a0c63d8f",
   "metadata": {},
   "outputs": [
    {
     "data": {
      "text/plain": [
       "2.0"
      ]
     },
     "execution_count": 10,
     "metadata": {},
     "output_type": "execute_result"
    }
   ],
   "source": [
    "n_qrt(8,2)"
   ]
  },
  {
   "cell_type": "code",
   "execution_count": null,
   "id": "7a6e7fea",
   "metadata": {},
   "outputs": [],
   "source": []
  },
  {
   "cell_type": "code",
   "execution_count": null,
   "id": "01296e9e",
   "metadata": {},
   "outputs": [],
   "source": []
  }
 ],
 "metadata": {
  "kernelspec": {
   "display_name": "Python 3 (ipykernel)",
   "language": "python",
   "name": "python3"
  },
  "language_info": {
   "codemirror_mode": {
    "name": "ipython",
    "version": 3
   },
   "file_extension": ".py",
   "mimetype": "text/x-python",
   "name": "python",
   "nbconvert_exporter": "python",
   "pygments_lexer": "ipython3",
   "version": "3.9.7"
  }
 },
 "nbformat": 4,
 "nbformat_minor": 5
}
